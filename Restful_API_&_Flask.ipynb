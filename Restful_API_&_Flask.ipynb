{
  "nbformat": 4,
  "nbformat_minor": 0,
  "metadata": {
    "colab": {
      "provenance": []
    },
    "kernelspec": {
      "name": "python3",
      "display_name": "Python 3"
    },
    "language_info": {
      "name": "python"
    }
  },
  "cells": [
    {
      "cell_type": "markdown",
      "source": [
        "Que-1 What is a RESTful API4?\n",
        "\n",
        "Ans-1  A RESTful API (Representational State Transfer API) is a type of web service that uses HTTP requests to perform operations on resources. REST is an architectural style, not a protocol, that outlines how web services should be designed to be scalable, stateless, and simple."
      ],
      "metadata": {
        "id": "sZnAZjKByxO_"
      }
    },
    {
      "cell_type": "markdown",
      "source": [
        "Que-2 Explain the concept of API specification?\n",
        "\n",
        "Ans-2 An API specification is a formal document or definition that describes how a software API (Application Programming Interface) should work. It serves as a contract between the API provider and consumers, detailing how to interact with the API. The API specification ensures consistency, clarity, and efficiency in the development and consumption of APIs, especially in a team environment where different people might be working on the client-side and server-side parts of the application."
      ],
      "metadata": {
        "id": "etKRSvJfzBSa"
      }
    },
    {
      "cell_type": "markdown",
      "source": [
        "Que-3 What is Flask, and why is it popular for building APIs?\n",
        "\n",
        "Ans-3 Flask for API Development - Flask is a lightweight, micro web framework for Python that allows developers to build web applications and APIs quickly with minimal boilerplate code. Created by Armin Ronacher in 2010, it's designed to be simple but extensible.\n",
        "-Why Flask is Popular for Building APIs -\n",
        "  * Lightweight and Minimalist:- Flask comes with just the essentials, letting developers add only what they need rather than working around unnecessary features.\n",
        "  * Flexibility: Unlike more opinionated frameworks, Flask doesn't force\n",
        "  specific project structures or dependencies, giving developers freedom to design their APIs as needed.\n",
        "  * Easy to Learn: With a gentle learning curve, developers can build  \n",
        "  functional APIs with just a few lines of code.\n",
        "  * Extensibility: Flask's extension ecosystem allows developers to add functionality like database integration, authentication, and form validation as needed.\n",
        "  * Simplicity and Minimalism:\n",
        "  Flask is minimalistic, which means it provides only the core features required to get a web application running. This simplicity makes it easy for developers to understand and use, especially for smaller projects or when creating an API quickly. You can add more complexity (like databases, authentication, etc.) as needed by incorporating extensions."
      ],
      "metadata": {
        "id": "Vg4EdeLm06QI"
      }
    },
    {
      "cell_type": "markdown",
      "source": [
        "Que-4 What is routing in Flask?\n",
        "\n",
        "Ans-4 Routing in Flask refers to the mechanism that maps URLs to specific functions in your application code. When a client sends a request to a specific URL endpoint, Flask uses these routes to determine which function should handle the request and generate a response."
      ],
      "metadata": {
        "id": "cTsMty052l-U"
      }
    },
    {
      "cell_type": "markdown",
      "source": [
        "Que-5 How do you create a simple Flask application?\n",
        "\n",
        "Ans-5 Below are the steps to get started with Flask, assuming you have Python installed on your system.\n",
        " Install Flask via pip.\n",
        "\n",
        "Create a Python file (app.py), define your routes using the @app.route() decorator, and return content (e.g., a string) for each route.\n",
        "\n",
        "Run your Flask application with python app.py and open it in a browser.\n",
        "\n",
        "Add more routes to your application to extend its functionality."
      ],
      "metadata": {
        "id": "B6E6rwZJ3JrQ"
      }
    },
    {
      "cell_type": "markdown",
      "source": [
        "Que-6 What are HTTP methods used in RESTful APIs?\n",
        "\n",
        "Ans-6 HTTP Methods in RESTful APIs- RESTful APIs use standard HTTP methods (also called verbs) to perform different operations on resources. Each method has a specific semantic meaning and expected behavior:\n",
        " ** HTTP Methods **\n",
        "  1. GET (Read)\n",
        "  2. POST(Create)\n",
        "  3. PUT (Update)\n",
        "  4. PATCH (Partially Update)\n",
        "  5. DELETE (Delete)"
      ],
      "metadata": {
        "id": "baBOiwlo4n9e"
      }
    },
    {
      "cell_type": "markdown",
      "source": [
        "Que-7 What is the purpose of the @app.route() decorator in Flask?\n",
        "\n",
        "Ans-7 Purpose of @app.route() Decorator in Flask - The @app.route() decorator in Flask serves as the core mechanism for URL routing. It connects specific URL paths to the Python functions that should handle requests to those paths.\n",
        "Without this decorator, you would need to manually register each URL pattern with its corresponding function, making Flask's clean and intuitive routing system much more verbose and complex to implement."
      ],
      "metadata": {
        "id": "ccnd9eHJ6J-q"
      }
    },
    {
      "cell_type": "markdown",
      "source": [
        "Que-8  What is the difference between GET and POST HTTP methods?\n",
        "\n",
        "Ans-8 GET and POST are two fundamental HTTP methods that serve different purposes in web communication. GET requests are designed to retrieve data from a server without modifying any resources, with parameters visibly appended to the URL in the query string, making them ideal for search queries and page navigation but limiting their data capacity and security for sensitive information. In contrast, POST requests send data in the request body rather than the URL, allowing for larger data transfers and better security since the information isn't visible in browser history or server logs, making them suitable for submitting forms, uploading files, or creating new resources on the server. While GET requests are considered \"safe\" and idempotent (meaning multiple identical requests will produce the same result), POST requests can alter server state and potentially create different outcomes when repeated, which is why browsers typically warn users when resubmitting POST data but not when refreshing GET requests.\n",
        "\n"
      ],
      "metadata": {
        "id": "8RvUBSlI6h9w"
      }
    },
    {
      "cell_type": "markdown",
      "source": [
        "Que-9  How do you handle errors in Flask APIs?\n",
        "\n",
        "Ans-9 Error handling in Flask can be done in several ways:\n",
        "1. Using Error Handlers.\n",
        "2. Custom Exception Classes.\n",
        "3. Try-Except Blocks in Route Handlers.\n",
        "4. Global Exception Handling.\n",
        "5. Using Flask-RESTful for Structured Errors.\n",
        "Effective error handling improves API usability by providing clear feedback to clients about what went wrong and how they might fix it.RetryClaude does not have the ability to run the code it generates yet.Claude can make mistakes. Please double-check responses.\n"
      ],
      "metadata": {
        "id": "MSgnOFaA7H5G"
      }
    },
    {
      "cell_type": "markdown",
      "source": [
        "Que-10  How do you connect Flask to a SQL database?\n",
        "\n",
        "Ans-10 To connect a Flask application to a SQL database, you can use SQLAlchemy, a popular Object Relational Mapper (ORM) for Python. SQLAlchemy allows you to interact with your database using Python objects, making database operations more convenient and Pythonic.\n",
        "\n",
        " Here’s how you can set up a basic Flask application with SQLAlchemy and connect it to an SQL database:\n",
        "\n",
        " 1. Install Flask and Flask-SQLAlchemy to connect Flask to a SQL database.\n",
        "\n",
        " 2. Configure the database URI in your Flask app’s configuration.\n",
        "\n",
        " 3. Define models using SQLAlchemy to represent your database tables.\n",
        "\n",
        " 4. Use db.create_all() to create the database tables.\n",
        "\n",
        " 5. Interact with the database using Flask-SQLAlchemy’s ORM methods to query and modify data.\n",
        "\n",
        " 6. Optionally, use Flask-Migrate for database migrations to track and apply schema changes.\n",
        "\n",
        "This setup allows you to easily integrate and manage SQL databases in your Flask applications!\n"
      ],
      "metadata": {
        "id": "e8z3rwxQ8TaB"
      }
    },
    {
      "cell_type": "markdown",
      "source": [
        "Que-11 What is the role of Flask-SQLAlchemy?\n",
        "\n",
        "Ans-11 Flask-SQLAlchemy is an extension for Flask that integrates the powerful SQLAlchemy ORM (Object-Relational Mapping) tool into Flask applications, simplifying the process of working with relational databases. It provides a high-level interface for defining and interacting with database tables through Python classes, allowing developers to perform database operations (such as creating, reading, updating, and deleting data) without writing raw SQL queries. Flask-SQLAlchemy manages the connection to the database, handles session management, and provides automatic creation and migration of tables. Additionally, it supports defining relationships between models, such as one-to-many or many-to-many relationships, making it easier to manage complex database structures. With Flask-SQLAlchemy, developers can work more efficiently with databases while maintaining clean and maintainable code.\n",
        "\n",
        "\n",
        "\n"
      ],
      "metadata": {
        "id": "RyrP3aea9Rzm"
      }
    },
    {
      "cell_type": "markdown",
      "source": [
        "Que-12 What are Flask blueprints, and how are they useful?\n",
        "\n",
        "Ans-12 **Flask blueprints** are a way to organize and structure a Flask application by breaking it into smaller, modular components. They allow developers to define routes, templates, static files, and other functionalities within individual \"blueprints,\" which can then be registered with the main Flask application. This modular approach promotes cleaner and more maintainable code, especially for larger applications. Blueprints enable the reuse of code across multiple parts of the application, as well as easier testing and scalability. For example, you could have separate blueprints for different parts of the app, such as user authentication, admin panel, or API routes, each responsible for its own set of views and logic. By using blueprints, the application becomes more organized and easier to manage, particularly when working on a team or when the application grows in size and complexity."
      ],
      "metadata": {
        "id": "y_7jAxKA9sl-"
      }
    },
    {
      "cell_type": "markdown",
      "source": [
        "Que-13 What is the purpose of Flask's request object?\n",
        "\n",
        "Ans-13 Flask's **request object** is used to handle incoming HTTP requests and provide access to data sent by the client. It contains details about the request, such as form data, query parameters, headers, cookies, and files. The request object allows you to retrieve this information and interact with it in your Flask views or route functions, making it essential for processing user input, handling form submissions, and working with various HTTP methods like GET, POST, or PUT. In essence, the `request` object is a key part of Flask’s request-response cycle, providing the necessary context for each request received by the server."
      ],
      "metadata": {
        "id": "H53uRj1g97Wu"
      }
    },
    {
      "cell_type": "markdown",
      "source": [
        "Que-14 How do you create a RESTful API endpoint using Flask?\n",
        "\n",
        "Ans-14 To create a RESTful API endpoint using Flask, follow these steps:\n",
        "\n",
        "Install Flask: First, ensure Flask is installed using pip install Flask.\n",
        "\n",
        "Define the Flask Application: Create a basic Flask application.\n",
        "\n",
        "Define the API Endpoint: Use Flask's route decorators (@app.route) to define the endpoint and associate it with a specific HTTP method (GET, POST, PUT, DELETE, etc.).\n",
        "\n",
        "Return JSON Responses: Use jsonify() to send structured JSON responses."
      ],
      "metadata": {
        "id": "AdOw0ljD-LZN"
      }
    },
    {
      "cell_type": "markdown",
      "source": [
        "Que-15 What is the purpose of Flask's jsonify() function?\n",
        "\n",
        "Ans-15 Flask's **`jsonify()`** function is used to convert Python dictionaries or lists into a JSON response that can be returned from a view or route. It ensures that the response is properly formatted with the correct **Content-Type** header (`application/json`) and handles serializing Python objects to JSON. This is particularly useful when building APIs, as it allows you to send structured data in JSON format, which is a widely used format for communication between a client and a server. By using `jsonify()`, you can easily return API responses in a standardized way."
      ],
      "metadata": {
        "id": "_q7RKDUz-d1w"
      }
    },
    {
      "cell_type": "markdown",
      "source": [
        "Que-16 Explain Flask’s url_for() function?\n",
        "\n",
        "Ans-16 Flask's url_for() function is used to generate the URL for a specific route in the application, based on its endpoint name. Instead of hardcoding URLs, url_for() allows you to dynamically generate the correct URL, even if the route URL structure changes. This ensures that your app remains flexible and avoids broken links. It can also be used to generate URLs for static files or to pass parameters to routes.\n"
      ],
      "metadata": {
        "id": "poHyLwz5ATLS"
      }
    },
    {
      "cell_type": "markdown",
      "source": [
        "Que-17 How does Flask handle static files (CSS, JavaScript, etc.)?\n",
        "\n",
        "Ans-17 Flask handles static files like **CSS**, **JavaScript**, and **images** through a dedicated folder called `static`. By default, Flask serves static files from this folder, which should be located in the root directory of your application. You can reference these files in your HTML templates using the ('static', filename='path/to/file')` function, which generates the correct URL for accessing the static content. Flask automatically knows to look for static files in the `static` folder, making it easy to organize and serve assets like stylesheets, scripts, and images. For example:\n",
        "\n",
        "Flask's built-in development server can handle requests for static files without additional configuration."
      ],
      "metadata": {
        "id": "eoopHgFsAoHm"
      }
    },
    {
      "cell_type": "markdown",
      "source": [
        "Que-18 What is an API specification, and how does it help in building a Flask\n",
        "  API?\n",
        "\n",
        "Ans-18 An **API specification** is a detailed document or blueprint that defines the structure, behavior, and endpoints of an API, including the available methods (GET, POST, PUT, DELETE), request parameters, response formats, status codes, and authentication requirements. Common formats for API specifications include **OpenAPI** (formerly Swagger) and **RAML**. Having a well-defined API specification is essential when building a Flask API because it provides clear guidelines for developers on how the API should behave, what data it expects, and what it returns. It helps ensure consistency, facilitates communication among team members, and allows for better testing, documentation, and integration with other services. In Flask, you can refer to the specification to design routes, handle requests, and structure responses according to predefined standards, making the API more reliable, easier to maintain, and easier to use by other developers or clients."
      ],
      "metadata": {
        "id": "Jqw07cBLA9OQ"
      }
    },
    {
      "cell_type": "markdown",
      "source": [
        "Que-19 What are HTTP status codes, and why are they important in a Flask API?\n",
        "\n",
        "Ans-19 **HTTP status codes** are numerical codes sent by a server in response to an HTTP request to indicate the result of the request. These codes help clients understand the status of the request and guide further actions. They are categorized into five main groups:\n",
        "\n",
        "1. **1xx (Informational)**: Indicates the request was received and processing is continuing.\n",
        "2. **2xx (Success)**: Indicates the request was successfully processed (e.g., 200 for OK).\n",
        "3. **3xx (Redirection)**: Indicates the client must take further action to complete the request (e.g., 301 for moved permanently).\n",
        "4. **4xx (Client Error)**: Indicates an error with the request from the client (e.g., 404 for Not Found).\n",
        "5. **5xx (Server Error)**: Indicates the server failed to process the request (e.g., 500 for Internal Server Error).\n",
        "\n",
        "In a **Flask API**, status codes are critical for conveying meaningful responses to the client. They help distinguish between successful operations, errors, and the need for further actions, improving the API’s usability and debugging. Properly using status codes allows clients to handle responses appropriately, such as retrying requests on server errors or notifying users on client errors."
      ],
      "metadata": {
        "id": "_STPk2zUBVv9"
      }
    },
    {
      "cell_type": "markdown",
      "source": [
        "Que-20 How do you handle POST requests in Flask?\n",
        "\n",
        "Ans-20 n Flask, you can handle POST requests by defining a route that listens for POST method interactions and using the @app.route decorator with the methods=['POST'] argument. Inside the route function, you can access data sent by the client, such as form data or JSON, using request.form for form data or request.json for JSON data. After processing the request, you can return a response, typically with a status code like 201 (Created) to indicate successful handling."
      ],
      "metadata": {
        "id": "y-JHk5RdBxtg"
      }
    },
    {
      "cell_type": "markdown",
      "source": [
        "Que-21 How would you secure a Flask API?\n",
        "\n",
        "Ans-21 To secure a Flask API, you can implement several key measures:\n",
        "\n",
        "1. **Authentication**: Use **JWT** (JSON Web Tokens) or **OAuth** for user authentication, ensuring only authorized users can access the API.\n",
        "2. **Authorization**: Implement **role-based access control (RBAC)** to restrict access to specific routes based on user roles.\n",
        "3. **HTTPS**: Enforce **SSL/TLS encryption (HTTPS)** to protect data in transit.\n",
        "4. **Rate Limiting**: Use **Flask-Limiter** to prevent abuse and mitigate DoS attacks by limiting the number of requests per client.\n",
        "5. **Input Validation**: Validate user input to prevent security risks like **SQL injection** and **XSS** attacks.\n",
        "6. **CORS**: Configure **Flask-CORS** to control cross-origin resource sharing and allow only trusted domains to access your API.\n",
        "\n",
        "These steps help protect your API from unauthorized access, data breaches, and attacks."
      ],
      "metadata": {
        "id": "FzU8OEX_CDHm"
      }
    },
    {
      "cell_type": "markdown",
      "source": [
        "Que-22 What is the significance of the Flask-RESTful extension?\n",
        "\n",
        "Ans-22 The **Flask-RESTful** extension is significant because it simplifies the process of building **RESTful APIs** in Flask by providing a structured framework for handling API requests. It enhances Flask's capabilities by offering features like **Resource classes** for organizing API endpoints, automatic parsing of request data (such as JSON or form data), and built-in support for common HTTP methods like GET, POST, PUT, and DELETE. Flask-RESTful promotes cleaner and more maintainable code, allowing developers to focus on business logic rather than repetitive tasks. Additionally, it offers tools for error handling, data serialization, and customizing response formats, making it easier to develop robust and scalable APIs in a more efficient manner."
      ],
      "metadata": {
        "id": "8JEmfNjQCgn2"
      }
    },
    {
      "cell_type": "markdown",
      "source": [
        "Que-23 What is the role of Flask’s session object?\n",
        "\n",
        "Ans-23 Flask's **`session`** object is used to store data that persists across multiple requests from a specific user during a session. It allows you to store user-specific information, such as login status, preferences, or shopping cart items, in a way that is accessible throughout the user's interaction with the application. The session data is stored on the client-side in cookies, but it is securely signed to prevent tampering. Flask's session object simplifies managing temporary data by automatically handling the creation and expiration of sessions. For example, you can store a user's authentication status in the session, so they remain logged in between requests without needing to re-authenticate every time. This is especially useful for building applications with user-specific data that needs to persist temporarily."
      ],
      "metadata": {
        "id": "iD0Fjs2DC1TG"
      }
    },
    {
      "cell_type": "markdown",
      "source": [
        "                             ** PRACTICAL QUESTIONS **"
      ],
      "metadata": {
        "id": "OhOgZWNIDCE5"
      }
    },
    {
      "cell_type": "markdown",
      "source": [
        "Que-1 How do you create a basic Flask application?"
      ],
      "metadata": {
        "id": "h0shPv4rDVWc"
      }
    },
    {
      "cell_type": "code",
      "source": [
        "# Import the Flask class\n",
        "from flask import Flask\n",
        "\n",
        "# Create an instance of the Flask class\n",
        "app = Flask(__name__)\n",
        "\n",
        "# Define a route for the home page\n",
        "@app.route('/')\n",
        "def home():\n",
        "    return \"Hello, World!\"\n",
        "\n",
        "# Run the application\n",
        "if __name__ == '__main__':\n",
        "    app.run(debug=True)"
      ],
      "metadata": {
        "colab": {
          "base_uri": "https://localhost:8080/"
        },
        "id": "_Knx-iQGD7Xy",
        "outputId": "c2b63ad7-be32-4e9d-d71c-e454791548eb"
      },
      "execution_count": 2,
      "outputs": [
        {
          "output_type": "stream",
          "name": "stdout",
          "text": [
            " * Serving Flask app '__main__'\n",
            " * Debug mode: on\n"
          ]
        },
        {
          "output_type": "stream",
          "name": "stderr",
          "text": [
            "INFO:werkzeug:\u001b[31m\u001b[1mWARNING: This is a development server. Do not use it in a production deployment. Use a production WSGI server instead.\u001b[0m\n",
            " * Running on http://127.0.0.1:5000\n",
            "INFO:werkzeug:\u001b[33mPress CTRL+C to quit\u001b[0m\n",
            "INFO:werkzeug: * Restarting with stat\n"
          ]
        }
      ]
    },
    {
      "cell_type": "markdown",
      "source": [
        "Que-2 How do you serve static files like images or CSS in Flask?"
      ],
      "metadata": {
        "id": "nCHSbM58GmKz"
      }
    },
    {
      "cell_type": "code",
      "source": [
        "from flask import Flask, render_template\n",
        "\n",
        "app = Flask(__name__)\n",
        "\n",
        "@app.route('/')\n",
        "def home():\n",
        "    return render_template('index.html')\n",
        "\n",
        "if __name__ == '__main__':\n",
        "    app.run(debug=True)\n",
        "\n",
        "@app.route('/')\n",
        "def home():\n",
        "    return render_template('index.html')\n",
        "\n",
        "if __name__ == '__main__':\n",
        "    app.run(debug=True)"
      ],
      "metadata": {
        "colab": {
          "base_uri": "https://localhost:8080/"
        },
        "id": "hm4QcA1SGsVx",
        "outputId": "480abd82-9800-436f-d29c-c30675972575"
      },
      "execution_count": null,
      "outputs": [
        {
          "output_type": "stream",
          "name": "stdout",
          "text": [
            " * Serving Flask app '__main__'\n",
            " * Debug mode: on\n"
          ]
        },
        {
          "output_type": "stream",
          "name": "stderr",
          "text": [
            "INFO:werkzeug:\u001b[31m\u001b[1mWARNING: This is a development server. Do not use it in a production deployment. Use a production WSGI server instead.\u001b[0m\n",
            " * Running on http://127.0.0.1:5000\n",
            "INFO:werkzeug:\u001b[33mPress CTRL+C to quit\u001b[0m\n",
            "INFO:werkzeug: * Restarting with stat\n"
          ]
        }
      ]
    },
    {
      "cell_type": "markdown",
      "source": [
        "Que-3 How do you define different routes with different HTTP methods in Flask?"
      ],
      "metadata": {
        "id": "IMDTxnBVKAwI"
      }
    },
    {
      "cell_type": "code",
      "source": [
        "from flask import Flask, request, jsonify\n",
        "\n",
        "app = Flask(__name__)\n",
        "\n",
        "# Route for handling GET requests\n",
        "@app.route('/api/data', methods=['GET'])\n",
        "def get_data():\n",
        "    return jsonify({\"message\": \"This is a GET request\"})\n",
        "\n",
        "# Route for handling POST requests\n",
        "@app.route('/api/data', methods=['POST'])\n",
        "def post_data():\n",
        "    data = request.json  # Get JSON data from the request\n",
        "    return jsonify({\"message\": \"This is a POST request\", \"data\": data}), 201\n",
        "\n",
        "# Route for handling PUT requests\n",
        "@app.route('/api/data', methods=['PUT'])\n",
        "def put_data():\n",
        "    data = request.json\n",
        "    return jsonify({\"message\": \"This is a PUT request\", \"data\": data})\n",
        "\n",
        "# Route for handling DELETE requests\n",
        "@app.route('/api/data', methods=['DELETE'])\n",
        "def delete_data():\n",
        "    return jsonify({\"message\": \"This is a DELETE request\"})\n",
        "\n",
        "if __name__ == '__main__':\n",
        "    app.run(debug=True)"
      ],
      "metadata": {
        "colab": {
          "base_uri": "https://localhost:8080/"
        },
        "id": "zMDrnY_PKIgk",
        "outputId": "e864cd41-db31-4d6a-9f45-7ec8785e19df"
      },
      "execution_count": 4,
      "outputs": [
        {
          "output_type": "stream",
          "name": "stdout",
          "text": [
            " * Serving Flask app '__main__'\n",
            " * Debug mode: on\n"
          ]
        },
        {
          "output_type": "stream",
          "name": "stderr",
          "text": [
            "INFO:werkzeug:\u001b[31m\u001b[1mWARNING: This is a development server. Do not use it in a production deployment. Use a production WSGI server instead.\u001b[0m\n",
            " * Running on http://127.0.0.1:5000\n",
            "INFO:werkzeug:\u001b[33mPress CTRL+C to quit\u001b[0m\n",
            "INFO:werkzeug: * Restarting with stat\n"
          ]
        }
      ]
    },
    {
      "cell_type": "markdown",
      "source": [
        "Que-4  How do you render HTML templates in Flask?\n"
      ],
      "metadata": {
        "id": "1S69i762KkAt"
      }
    },
    {
      "cell_type": "code",
      "source": [
        "from flask import Flask, render_template\n",
        "\n",
        "app = Flask(__name__)\n",
        "\n",
        "@app.route('/')\n",
        "def home():\n",
        "    return render_template('index.html')\n",
        "\n",
        "@app.route('/about')\n",
        "def about():\n",
        "    return render_template('about.html')\n",
        "\n",
        "if __name__ == '__main__':\n",
        "    app.run(debug=True)"
      ],
      "metadata": {
        "id": "lph_MieyKqST"
      },
      "execution_count": null,
      "outputs": []
    },
    {
      "cell_type": "markdown",
      "source": [
        "Que-5  How can you generate URLs for routes in Flask using url_for?"
      ],
      "metadata": {
        "id": "54tqtqNrK6HN"
      }
    },
    {
      "cell_type": "code",
      "source": [
        "from flask import Flask, render_template, url_for\n",
        "\n",
        "app = Flask(__name__)\n",
        "\n",
        "@app.route('/')\n",
        "def home():\n",
        "    return render_template('index.html')\n",
        "\n",
        "@app.route('/about')\n",
        "def about():\n",
        "    return render_template('about.html')\n",
        "\n",
        "@app.route('/user/<username>')\n",
        "def user_profile(username):\n",
        "    return f\"User  Profile: {username}\"\n",
        "\n",
        "if __name__ == '__main__':\n",
        "    app.run(debug=True)\n",
        ""
      ],
      "metadata": {
        "id": "0BkipwqWLASE"
      },
      "execution_count": null,
      "outputs": []
    },
    {
      "cell_type": "markdown",
      "source": [
        "Que-6 How do you handle forms in Flask?"
      ],
      "metadata": {
        "id": "uPb4tQrsLXW7"
      }
    },
    {
      "cell_type": "code",
      "source": [
        "from flask import Flask, render_template, request, redirect, url_for\n",
        "\n",
        "app = Flask(__name__)\n",
        "\n",
        "@app.route('/', methods=['GET', 'POST'])\n",
        "def form():\n",
        "    if request.method == 'POST':\n",
        "        # Get data from the form\n",
        "        name = request.form.get('name')\n",
        "        email = request.form.get('email')\n",
        "\n",
        "        # Redirect to the result page with the submitted data\n",
        "        return redirect(url_for('result', name=name, email=email))\n",
        "\n",
        "    return render_template('form.html')\n",
        "\n",
        "@app.route('/result')\n",
        "def result():\n",
        "    name = request.args.get('name')\n",
        "    email = request.args.get('email')\n",
        "    return render_template('result.html', name=name, email=email)\n",
        "\n",
        "if __name__ == '__main__':\n",
        "    app.run(debug=True)"
      ],
      "metadata": {
        "id": "7p-BWNm0LeWU"
      },
      "execution_count": null,
      "outputs": []
    },
    {
      "cell_type": "markdown",
      "source": [
        "Que-7 How can you validate form data in Flask?"
      ],
      "metadata": {
        "id": "EXcUxb2_L50c"
      }
    },
    {
      "cell_type": "code",
      "source": [
        "from flask import Flask, request, jsonify\n",
        "from marshmallow import Schema, fields, validates, ValidationError\n",
        "\n",
        "app = Flask(__name__)\n",
        "\n",
        "class MySchema(Schema):\n",
        "    name = fields.Str(required=True)\n",
        "    email = fields.Email(required=True)\n",
        "\n",
        "    @validates('email')\n",
        "    def validate_email(self, value):\n",
        "        if '@' not in value:\n",
        "            raise ValidationError('Invalid email format')\n",
        "\n",
        "@app.route('/submit', methods=['POST'])\n",
        "def submit():\n",
        "    schema = MySchema()\n",
        "    data = request.get_json()\n",
        "    try:\n",
        "        schema.load(data)\n",
        "    except ValidationError as err:\n",
        "        return jsonify({'error': err.messages}), 400\n",
        "    # If data is valid, process it\n",
        "    return jsonify({'message': 'Data submitted successfully'}), 200\n",
        "\n",
        "if __name__ == '__main__':\n",
        "    app.run()"
      ],
      "metadata": {
        "id": "0_nL5IvgL_W7"
      },
      "execution_count": null,
      "outputs": []
    },
    {
      "cell_type": "markdown",
      "source": [
        "Que-8 How do you manage sessions in Flask?"
      ],
      "metadata": {
        "id": "VoYeHqAaMRFj"
      }
    },
    {
      "cell_type": "code",
      "source": [
        "from flask import Flask, session, redirect, url_for, request, render_template\n",
        "\n",
        "app = Flask(__name__)\n",
        "app.secret_key = 'your_secret_key'  # Required for session management\n",
        "\n",
        "@app.route('/')\n",
        "def home():\n",
        "    return render_template('home.html')\n",
        "\n",
        "@app.route('/login', methods=['GET', 'POST'])\n",
        "def login():\n",
        "    if request.method == 'POST':\n",
        "        # Get the username from the form\n",
        "        username = request.form['username']\n",
        "        # Store the username in the session\n",
        "        session['username'] = username\n",
        "        return redirect(url_for('profile'))\n",
        "    return render_template('login.html')\n",
        "\n",
        "@app.route('/profile')\n",
        "def profile():\n",
        "    # Check if the user is logged in\n",
        "    if 'username' in session:\n",
        "        username = session['username']\n",
        "        return f'Logged in as {username} <br><a href=\"/logout\">Logout</a>'\n",
        "    return redirect(url_for('login'))\n",
        "\n",
        "@app.route('/logout')\n",
        "def logout():\n",
        "    # Remove the username from the session\n",
        "    session.pop('username', None)\n",
        "    return redirect(url_for('home'))\n",
        "\n",
        "if __name__ == '__main__':\n",
        "    app.run(debug=True)"
      ],
      "metadata": {
        "id": "nboWC9FqMXE8"
      },
      "execution_count": null,
      "outputs": []
    },
    {
      "cell_type": "markdown",
      "source": [
        "Que-9  How do you redirect to a different route in Flask?"
      ],
      "metadata": {
        "id": "EwB-iDUIMvWW"
      }
    },
    {
      "cell_type": "code",
      "source": [
        "# prompt: (1,\"khushboo\",\"Apple\",360,580)\n",
        "\n",
        "from flask import Flask, redirect, url_for\n",
        "\n",
        "app = Flask(__name__)\n",
        "\n",
        "@app.route('/')\n",
        "def index():\n",
        "    return redirect(url_for('profile', user_id=1, username=\"khushboo\", product=\"Apple\", price=360, quantity=580))\n",
        "\n",
        "@app.route('/profile/<int:user_id>/<username>/<product>/<int:price>/<int:quantity>')\n",
        "def profile(user_id, username, product, price, quantity):\n",
        "    return f\"User ID: {user_id}, Username: {username}, Product: {product}, Price: {price}, Quantity: {quantity}\"\n",
        "\n",
        "if __name__ == '__main__':\n",
        "    app.run(debug=True)\n"
      ],
      "metadata": {
        "id": "KP0_k9bfM2uD"
      },
      "execution_count": null,
      "outputs": []
    },
    {
      "cell_type": "markdown",
      "source": [
        "Que-10  How do you handle errors in Flask (e.g., 404)?"
      ],
      "metadata": {
        "id": "ngpvFqtINgkg"
      }
    },
    {
      "cell_type": "code",
      "source": [
        "from flask import Flask, render_template\n",
        "\n",
        "app = Flask(__name__)\n",
        "\n",
        "@app.route('/')\n",
        "def home():\n",
        "    return \"Welcome to the Home Page!\"\n",
        "\n",
        "@app.route('/about')\n",
        "def about():\n",
        "    return \"This is the About Page.\"\n",
        "\n",
        "# Custom error handler for 404 errors\n",
        "@app.errorhandler(404)\n",
        "def page_not_found(e):\n",
        "    return render_template('404.html'), 404\n",
        "\n",
        "# Custom error handler for 500 errors\n",
        "@app.errorhandler(500)\n",
        "def internal_server_error(e):\n",
        "    return render_template('500.html'), 500\n",
        "\n",
        "if __name__ == '__main__':\n",
        "    app.run(debug=True)"
      ],
      "metadata": {
        "id": "emLEqvfFNrZ4"
      },
      "execution_count": null,
      "outputs": []
    },
    {
      "cell_type": "markdown",
      "source": [
        "Que-11  How do you structure a Flask app using Blueprints?"
      ],
      "metadata": {
        "id": "qOyYzq0tN6jH"
      }
    },
    {
      "cell_type": "code",
      "source": [
        "from flask import Blueprint, render_template\n",
        "\n",
        "auth = Blueprint('auth', __name__)\n",
        "\n",
        "@auth.route('/login')\n",
        "def login():\n",
        "    return render_template('login.html')\n"
      ],
      "metadata": {
        "id": "kJ74GaXdQ6rs"
      },
      "execution_count": null,
      "outputs": []
    },
    {
      "cell_type": "markdown",
      "source": [
        "Que-12 How do you define a custom Jinja filter in Flask?"
      ],
      "metadata": {
        "id": "34fKnXrJQ9pD"
      }
    },
    {
      "cell_type": "code",
      "source": [
        "from flask import Flask\n",
        "\n",
        "# Create the custom filter function\n",
        "def uppercase_filter(value):\n",
        "    if isinstance(value, str):\n",
        "        return value.upper()\n",
        "    return value\n",
        "\n",
        "def create_app():\n",
        "    app = Flask(__name__)\n",
        "\n",
        "    # Register the custom filter\n",
        "    app.add_template_filter(uppercase_filter, name='uppercase')\n",
        "\n",
        "    return app\n"
      ],
      "metadata": {
        "id": "gzC0OEY4RFLp"
      },
      "execution_count": null,
      "outputs": []
    },
    {
      "cell_type": "markdown",
      "source": [
        "Que-13 How can you redirect with query parameters in Flask?"
      ],
      "metadata": {
        "id": "6BQKb68QRh3m"
      }
    },
    {
      "cell_type": "code",
      "source": [
        "from flask import Flask, redirect, url_for\n",
        "\n",
        "app = Flask(__name__)\n",
        "\n",
        "@app.route('/')\n",
        "def home():\n",
        "    return 'Welcome to the Home Page!'\n",
        "\n",
        "@app.route('/redirect_to_hello')\n",
        "def redirect_to_hello():\n",
        "    # Redirect to /hello with query parameters\n",
        "    return redirect(url_for('hello', name='John', age=30))\n",
        "\n",
        "@app.route('/hello')\n",
        "def hello():\n",
        "    # Access query parameters using request.args\n",
        "    name = request.args.get('name')\n",
        "    age = request.args.get('age')\n",
        "    return f'Hello {name}, you are {age} years old!'\n",
        "\n",
        "if __name__ == '__main__':\n",
        "    app.run(debug=True)\n"
      ],
      "metadata": {
        "id": "ZjvgdBi6RoCh"
      },
      "execution_count": null,
      "outputs": []
    },
    {
      "cell_type": "markdown",
      "source": [
        "Que-14 How do you return JSON responses in Flask?"
      ],
      "metadata": {
        "id": "pNKgiCemR11k"
      }
    },
    {
      "cell_type": "code",
      "source": [
        "from flask import Flask, jsonify\n",
        "\n",
        "app = Flask(__name__)\n",
        "\n",
        "@app.route('/')\n",
        "def home():\n",
        "    return \"Welcome to the Home Page!\"\n",
        "\n",
        "@app.route('/api/data')\n",
        "def get_data():\n",
        "    # Sample data to return as JSON\n",
        "    data = {\n",
        "        \"name\": \"John Doe\",\n",
        "        \"age\": 30,\n",
        "        \"city\": \"New York\"\n",
        "    }\n",
        "    return jsonify(data)\n",
        "\n",
        "@app.route('/api/numbers')\n",
        "def get_numbers():\n",
        "    # Sample list of numbers to return as JSON\n",
        "    numbers = [1, 2, 3, 4, 5]\n",
        "    return jsonify(numbers)\n",
        "\n",
        "if __name__ == '__main__':\n",
        "    app.run(debug=True)"
      ],
      "metadata": {
        "id": "-UZcimQ2R4lN"
      },
      "execution_count": null,
      "outputs": []
    },
    {
      "cell_type": "markdown",
      "source": [
        "Que-15  How do you capture URL parameters in Flask?"
      ],
      "metadata": {
        "id": "sB8sxvqESJP0"
      }
    },
    {
      "cell_type": "code",
      "source": [
        "from flask import Flask\n",
        "\n",
        "app = Flask(__name__)\n",
        "\n",
        "@app.route('/')\n",
        "def home():\n",
        "    return \"Welcome to the Home Page!\"\n",
        "\n",
        "@app.route('/user/<username>')\n",
        "def show_user_profile(username):\n",
        "    return f'User  Profile: {username}'\n",
        "\n",
        "@app.route('/post/<int:post_id>')\n",
        "def show_post(post_id):\n",
        "    return f'Post ID: {post_id}'\n",
        "\n",
        "@app.route('/path/<path:subpath>')\n",
        "def show_subpath(subpath):\n",
        "    return f'Subpath: {subpath}'\n",
        "\n",
        "if __name__ == '__main__':\n",
        "    app.run(debug=True)"
      ],
      "metadata": {
        "id": "XhgcTKEiSLwL"
      },
      "execution_count": null,
      "outputs": []
    }
  ]
}